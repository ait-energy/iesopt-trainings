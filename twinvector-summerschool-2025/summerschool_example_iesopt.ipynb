{
  "cells": [
    {
      "cell_type": "code",
      "execution_count": 8,
      "metadata": {
        "id": "xlwt6_ZlMh2K"
      },
      "outputs": [],
      "source": [
        "from pathlib import Path\n",
        "# !pip install iesopt > /dev/null"
      ]
    },
    {
      "cell_type": "code",
      "execution_count": 9,
      "metadata": {
        "colab": {
          "base_uri": "https://localhost:8080/"
        },
        "collapsed": true,
        "id": "jt-8tuFCIpER",
        "outputId": "c415a973-9e3d-47ec-cf95-4dd7d6e2f02e"
      },
      "outputs": [],
      "source": [
        "import iesopt"
      ]
    },
    {
      "cell_type": "code",
      "execution_count": 10,
      "metadata": {
        "colab": {
          "base_uri": "https://localhost:8080/"
        },
        "id": "kArigHWE5yIE",
        "outputId": "c7990a05-a5a1-452a-d39e-fa0926537b4a"
      },
      "outputs": [],
      "source": [
        "model = iesopt.run(\n",
        "    \"opt/config_summerschool2025.iesopt.yaml\",\n",
        "    parameters=dict(\n",
        "        # price_electricity_buy = \"dayahead_price@data\", price_electricity_sell = 10.0 # would model buying at the day-ahead price and selling (feed-in) at a fixed price of 10.0 EUR/MWh.\n",
        "    ),\n",
        ")"
      ]
    },
    {
      "cell_type": "code",
      "execution_count": 11,
      "metadata": {
        "colab": {
          "base_uri": "https://localhost:8080/"
        },
        "id": "wyGoJSnMCkfa",
        "outputId": "22afad90-78d7-40d7-a415-2fbef960ae15"
      },
      "outputs": [
        {
          "name": "stdout",
          "output_type": "stream",
          "text": [
            "['battery.discharging' 'battery.storage' 'pv' 'battery' 'buy_electricity'\n",
            " 'load' 'sell_electricity' 'battery.charging' 'grid_electricity']\n"
          ]
        }
      ],
      "source": [
        "df_results = model.results.to_pandas()\n",
        "\n",
        "# list components\n",
        "print( df_results[\"component\"].unique() )\n",
        "\n",
        "# electricity buy / sell\n",
        "elec_buy = df_results.query(\"component == 'buy_electricity' and field == 'value'\")\n",
        "elec_sold = df_results.query(\"component == 'sell_electricity' and field == 'value'\")\n",
        "combo = elec_buy.merge(elec_sold, how=\"inner\", on=\"snapshot\", suffixes=(\"_buy\", \"_sell\"))\n",
        "combo.to_csv(\"opt/out/elec_buy_sold.csv\")\n",
        "\n",
        "# pv\n",
        "pv = df_results.query(\"component == 'pv' and field == 'value'\")\n",
        "# load\n",
        "load = df_results.query(\"component == 'load' and field == 'value'\") \n",
        "combo=pv.merge(load, how=\"inner\", on=\"snapshot\", suffixes=(\"_pv\", \"_load\"))\n",
        "combo.to_csv(\"opt/out/pv_load.csv\")\n",
        "\n",
        "# battery\n",
        "batt_charge = df_results.query(\n",
        "    \"component.str.endswith('.charging') and fieldtype == 'exp' and field =='in_electricity'\",\n",
        "    engine=\"python\"\n",
        ")\n",
        "batt_discharge = df_results.query(\n",
        "    \"component.str.endswith('.discharging') and fieldtype == 'exp' and field =='in_electricity'\",\n",
        "    engine=\"python\"\n",
        ")\n",
        "combo =batt_charge.merge(batt_discharge, how=\"inner\", on=\"snapshot\", suffixes=(\"_charge\", \"_discharge\"))\n",
        "combo.to_csv(\"opt/out/batt_charge_discharge.csv\")\n"
      ]
    },
    {
      "cell_type": "markdown",
      "metadata": {
        "id": "GX_MN87iHfEm"
      },
      "source": [
        "# Vizualization"
      ]
    },
    {
      "cell_type": "code",
      "execution_count": 12,
      "metadata": {
        "colab": {
          "base_uri": "https://localhost:8080/",
          "height": 300
        },
        "id": "iqVqI8a96MP5",
        "outputId": "c02eca61-b38a-40f5-9630-e4a4d5279d15"
      },
      "outputs": [],
      "source": [
        "from iesopttools import RDB, Figure, Trace\n",
        "rdb = RDB()\n",
        "entry = rdb.add_entry(model)\n",
        "\n",
        "fig = Figure(style=\"seaborn\", barmode=\"relative\", labels=dict(title=\"electricity: supply / demand\", x=\"time\", y=\"MW\"))\n",
        "\n",
        "for asset in entry.query(\"carrier\", \"node = 'grid_electricity' AND direction = 'out'\"):\n",
        "    fig.add(Trace(\"bar\", entry.select(asset)))\n",
        "\n",
        "for asset in entry.query(\"carrier\", \"node = 'grid_electricity' AND direction = 'in'\"):\n",
        "    fig.add(Trace(\"bar\", entry.select(asset), sign=-1.0))\n"
      ]
    },
    {
      "cell_type": "code",
      "execution_count": 15,
      "metadata": {},
      "outputs": [
        {
          "data": {
            "text/plain": [
              "None"
            ]
          },
          "metadata": {},
          "output_type": "display_data"
        }
      ],
      "source": [
        "display(fig._fig)"
      ]
    },
    {
      "cell_type": "code",
      "execution_count": null,
      "metadata": {},
      "outputs": [],
      "source": []
    }
  ],
  "metadata": {
    "colab": {
      "provenance": []
    },
    "kernelspec": {
      "display_name": "twinvector-summerschool-2025",
      "language": "python",
      "name": "python3"
    },
    "language_info": {
      "codemirror_mode": {
        "name": "ipython",
        "version": 3
      },
      "file_extension": ".py",
      "mimetype": "text/x-python",
      "name": "python",
      "nbconvert_exporter": "python",
      "pygments_lexer": "ipython3",
      "version": "3.12.9"
    }
  },
  "nbformat": 4,
  "nbformat_minor": 0
}
