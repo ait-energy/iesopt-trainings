{
 "cells": [
  {
   "cell_type": "markdown",
   "id": "138f7253-7c30-4b19-a5bc-de429c3d7e07",
   "metadata": {},
   "source": [
    "# Economic analysis of the optimization results\n",
    "This notebook is dedicated to the economic evaluation of the optimization results produced using the \"colab-summerschool_example_iesopt.ipynb\" notebook."
   ]
  },
  {
   "cell_type": "markdown",
   "id": "aa78ecb8-7d97-4d0a-a214-586cb03f4cbc",
   "metadata": {},
   "source": [
    "## Adding the result files to this notebook\n",
    "\n",
    "Please find the \"opt.zip\" folder on the TwinVECTOR Sharepoint on Teams in the folder \"04_Supplementary Material\". Use drag & drop to put it directly into the Colab file explorer (left sidebar). Since it is a folder, you have to unzip it first.\n",
    "\n",
    "After unzipping, your folder will be inside `/content/`, with the same name as the zip file (without the .zip) unless the archive contains its own folder structure.\n",
    "\n",
    "You can unzip \"opt.zip\" by removing the hash in front of the command line below and executing it."
   ]
  },
  {
   "cell_type": "code",
   "execution_count": 1,
   "id": "b251cb08-9255-461b-958d-ab40864b0047",
   "metadata": {},
   "outputs": [],
   "source": [
    "# !unzip opt.zip"
   ]
  },
  {
   "cell_type": "markdown",
   "id": "17ecc19b-91d0-457b-8611-eeb5d76a7572",
   "metadata": {},
   "source": [
    "## Imports\n",
    "First, the necessary python functionalities (packages) have to be imported."
   ]
  },
  {
   "cell_type": "code",
   "execution_count": 2,
   "id": "9122be81-108d-4d45-bfb7-2ef22a38821f",
   "metadata": {},
   "outputs": [],
   "source": [
    "import pandas as pd\n",
    "import numpy as np\n",
    "import matplotlib.pyplot as plt\n",
    "import seaborn as sns"
   ]
  },
  {
   "cell_type": "markdown",
   "id": "c087125f-c99f-4575-b555-1923f315745c",
   "metadata": {},
   "source": [
    "## Definition of reusable functions\n",
    "In order to facilitate the economic analysis, we will define a set of functions that can be reused in the assessment and visualisation of each of our investigated BESS configurations (defined by a combination of battery power and capacity)."
   ]
  },
  {
   "cell_type": "markdown",
   "id": "90e84a1d-f65d-46d9-8af8-12c2a5078e2a",
   "metadata": {},
   "source": [
    "### Function to calculate economic KPIs\n",
    "This function calculates three economic KPIs, namely the Net Present Value (NPV), the dynamic amortisation time, and the Return on Investment (ROI). For their definition, please refer to the summer school slides for the economic assessment."
   ]
  },
  {
   "cell_type": "code",
   "execution_count": 3,
   "id": "ec3ba5d9-7342-46a7-86c2-130928216c36",
   "metadata": {},
   "outputs": [],
   "source": [
    "def economic_kpis(df: pd.DataFrame,\n",
    "                  discount_rate: float,\n",
    "                  cash_col: str = \"total_cashflow\",\n",
    "                  cost_col: str = \"total_costs\",\n",
    "                  profit_col: str = \"total_profits\"\n",
    "                  ) -> dict:\n",
    "    \"\"\"\n",
    "    Calculate key economic KPIs from a time-series DataFrame.\n",
    "\n",
    "    Parameters\n",
    "    ----------\n",
    "    df : pd.DataFrame\n",
    "        Must contain at least the columns for cashflow, total_costs, total_profits.\n",
    "        Index or a column should represent year 0..N (year-end).\n",
    "    discount_rate : float\n",
    "        Annual discount rate as a decimal (e.g. 0.08 for 8%).\n",
    "    cash_col, cost_col, profit_col : str\n",
    "        Column names for cash flow, total costs, and total profits.\n",
    "\n",
    "    Returns\n",
    "    -------\n",
    "    dict\n",
    "        {\n",
    "          'NPV': float,\n",
    "          'dynamic_amortisation_time': float,\n",
    "          'ROI': float\n",
    "        }\n",
    "    \"\"\"\n",
    "    # Ensure numeric and correct ordering\n",
    "    df = df.copy().reset_index(drop=True)\n",
    "    years = np.arange(len(df))\n",
    "\n",
    "    # --- NPV ---\n",
    "    cashflows = df[cash_col].astype(float).values\n",
    "    npv = np.sum(cashflows / (1 + discount_rate) ** years)\n",
    "\n",
    "    # --- Dynamic Amortisation Time ---\n",
    "    discounted_cum = np.cumsum(cashflows / (1 + discount_rate) ** years)\n",
    "    if np.any(discounted_cum >= 0):\n",
    "        # Find the first year where cumulative discounted cash flow turns positive\n",
    "        year_positive = np.argmax(discounted_cum >= 0)\n",
    "        if year_positive == 0:\n",
    "            dynamic_amort = 0.0\n",
    "        else:\n",
    "            # Linear interpolation between the previous year and this year\n",
    "            prev_val = discounted_cum[year_positive - 1]\n",
    "            this_val = discounted_cum[year_positive]\n",
    "            frac = -prev_val / (this_val - prev_val)\n",
    "            dynamic_amort = (year_positive - 1) + frac\n",
    "    else:\n",
    "        dynamic_amort = np.nan  # never amortises within horizon\n",
    "\n",
    "    # --- ROI ---\n",
    "    total_profit = df[profit_col].sum()\n",
    "    total_costs = df[cost_col].abs().sum()\n",
    "    roi = (total_profit - total_costs) / total_costs if total_costs != 0 else np.nan\n",
    "\n",
    "    return {\n",
    "        \"NPV\": npv,\n",
    "        \"dynamic_amortisation_time\": round(dynamic_amort),\n",
    "        \"ROI\": roi\n",
    "    }"
   ]
  },
  {
   "cell_type": "markdown",
   "id": "b6bb1058-7cd7-4c90-ba8a-3172926e461f",
   "metadata": {},
   "source": [
    "### Function to create a heatmap plot\n",
    "This function creates a heatmap plot of the results for each of the configurations with regards to the respective KPIs in order to compare the different configurations."
   ]
  },
  {
   "cell_type": "code",
   "execution_count": 4,
   "id": "481d422f-63f6-400c-b653-7a131de3e97b",
   "metadata": {},
   "outputs": [],
   "source": [
    "def kpi_heatmap(df: pd.DataFrame,\n",
    "                kpi: str,\n",
    "                cmap: str = \"YlGnBu\",\n",
    "                decimals: int = 2,\n",
    "                figsize: tuple = (8, 5)) -> None:\n",
    "    \"\"\"\n",
    "    Create a heatmap of a chosen KPI across power vs. capacity_hrs.\n",
    "\n",
    "    Parameters\n",
    "    ----------\n",
    "    df : pd.DataFrame\n",
    "        Must contain columns: 'power', 'capacity_hrs', and the KPI of interest.\n",
    "    kpi : str\n",
    "        One of 'NPV', 'ROI', or 'dynamic_amortisation_time'.\n",
    "    \"\"\"\n",
    "    if kpi not in df.columns:\n",
    "        raise ValueError(f\"'{kpi}' column not found in DataFrame.\")\n",
    "\n",
    "    # Force numeric types for the KPI, power, and capacity columns\n",
    "    df = df.copy()\n",
    "    for col in [\"power\", \"capacity_hrs\", kpi]:\n",
    "        df[col] = pd.to_numeric(df[col], errors=\"coerce\")\n",
    "\n",
    "    # Drop any rows with NaNs after conversion\n",
    "    df = df.dropna(subset=[\"power\", \"capacity_hrs\", kpi])\n",
    "\n",
    "    # Pivot to matrix form\n",
    "    pivot = df.pivot(index=\"capacity_hrs\", columns=\"power\", values=kpi)\n",
    "    pivot = pivot.sort_index(axis=0).sort_index(axis=1)\n",
    "\n",
    "    plt.figure(figsize=figsize)\n",
    "    sns.heatmap(\n",
    "        pivot,\n",
    "        annot=True,\n",
    "        fmt=f\".{decimals}f\",\n",
    "        cmap=cmap,\n",
    "        cbar_kws={\"label\": kpi}\n",
    "    )\n",
    "    plt.title(f\"{kpi} Heatmap\")\n",
    "    plt.xlabel(\"Power (MW)\")\n",
    "    plt.ylabel(\"Capacity (h)\")\n",
    "    plt.tight_layout()\n",
    "    plt.show()"
   ]
  },
  {
   "cell_type": "markdown",
   "id": "b7d4b6dc-4c6b-4f18-addd-c5bd7156d533",
   "metadata": {},
   "source": [
    "### Function to create a stacked bar plot\n",
    "This function creates a stacked bar plot of the cashflow results for one of the configurations."
   ]
  },
  {
   "cell_type": "code",
   "execution_count": 5,
   "id": "c13d02da-59b5-4481-9397-76a2ee53afd0",
   "metadata": {},
   "outputs": [],
   "source": [
    "def stacked_profit_cost_bar(df: pd.DataFrame,\n",
    "                            line_index: str = '2025-12-31',\n",
    "                            figsize: tuple = (8, 6),\n",
    "                            revenue_colors=(\"tab:green\", \"tab:blue\"),\n",
    "                            cost_colors=(\"tab:red\", \"tab:orange\")) -> None:\n",
    "    \"\"\"\n",
    "    Create a stacked bar plot for a given row in the dataframe.\n",
    "\n",
    "    Parameters\n",
    "    ----------\n",
    "    df : pd.DataFrame\n",
    "        Must contain columns:\n",
    "        ['electricity_profits_sell','avoided_costs_baseline',\n",
    "         'electricity_costs_buy','opex_bess'].\n",
    "        Index can be dates or strings convertible to match `line_index`.\n",
    "    line_index : str = '2025-12-31'\n",
    "        Index label (default '2025-12-31') to use for the bars.\n",
    "    figsize : tuple\n",
    "        Figure size (width, height).\n",
    "    revenue_colors : tuple\n",
    "        Colors for (electricity_profits_sell, avoided_costs_baseline).\n",
    "    cost_colors : tuple\n",
    "        Colors for (electricity_costs_buy, opex_bess).\n",
    "    \"\"\"\n",
    "    # Ensure index is string-like for matching\n",
    "    if line_index not in df.index.astype(str):\n",
    "        raise ValueError(f\"'{line_index}' not found in DataFrame index.\")\n",
    "\n",
    "    row = df.loc[line_index]\n",
    "\n",
    "    # Values for the stacked bars\n",
    "    revenues = [\n",
    "        row[\"electricity_profits_sell\"],\n",
    "        row[\"avoided_costs_baseline\"]\n",
    "    ]\n",
    "    costs = [\n",
    "        - row[\"electricity_costs_buy\"],\n",
    "        - row[\"opex_bess\"]\n",
    "    ]\n",
    "\n",
    "    fig, ax = plt.subplots(figsize=figsize, dpi=100)\n",
    "\n",
    "    # --- Revenues bar ---\n",
    "    bottom = 0\n",
    "    for val, color, label in zip(revenues, revenue_colors,\n",
    "                                 [\"electricity_profits_sell\", \"avoided_costs_baseline\"]):\n",
    "        ax.bar(\"Revenues\", val, bottom=bottom, color=color, label=label)\n",
    "        bottom += val\n",
    "\n",
    "    # --- Costs bar ---\n",
    "    bottom = 0\n",
    "    for val, color, label in zip(costs, cost_colors,\n",
    "                                 [\"electricity_costs_buy\", \"opex_bess\"]):\n",
    "        ax.bar(\"Costs\", val, bottom=bottom, color=color, label=label)\n",
    "        bottom += val\n",
    "\n",
    "    ax.set_ylabel(\"Cashflow (€)\")\n",
    "    ax.set_title(f\"Revenues vs. Costs for one year\")\n",
    "    ax.legend(title=\"Components\", bbox_to_anchor=(1.05, 1), loc=\"upper left\")\n",
    "    plt.tight_layout()\n",
    "    plt.show()\n"
   ]
  },
  {
   "cell_type": "markdown",
   "id": "a841383a-87e1-49c0-88c9-4536ebbb1791",
   "metadata": {},
   "source": [
    "### Function that does the cost / profit calculations\n",
    "This function calculates the individual cost and profit components, as well as the total costs, total profits, and total cashflow for a given BESS configuration."
   ]
  },
  {
   "cell_type": "code",
   "execution_count": 6,
   "id": "2d292240-c6f1-4ad8-8c34-e4c30cc8cd09",
   "metadata": {},
   "outputs": [],
   "source": [
    "def evaluate_profitability(power: float, cap_hrs: float, path: str = 'opt/out') -> pd.DataFrame:\n",
    "    \n",
    "    # Specifying the BESS configuration, i.e., the name of the folder where the results for this configuration are saved\n",
    "    config = f'p_{power}_h_{cap_hrs}'\n",
    "\n",
    "    # Reading the input data containing day-ahead prices\n",
    "    df_inputs = pd.read_csv('opt/data/timeseries/default.csv')\n",
    "\n",
    "    # Reading the optimization result for the specified BESS configuration\n",
    "    df_res = pd.read_csv(f'{path}/{config}/elec_buy_sell.csv')\n",
    "    df_res.head()\n",
    "\n",
    "    # Creating a new dataframe which will contain the results of the cost / profit calculation for the whole year\n",
    "    df_yearly_profits = df_inputs.loc[df_inputs.index[0]:df_inputs.index[8759], :].copy()\n",
    "\n",
    "    # Calculating the costs / profits in the \"baseline\" case without a BESS\n",
    "    df_yearly_profits['residual_load'] = df_yearly_profits['generation_solar'] - df_yearly_profits['demand']\n",
    "    df_yearly_profits['baseline_cons'] = df_yearly_profits['residual_load'].where(\n",
    "        df_yearly_profits['residual_load'] < 0., 0.).abs()\n",
    "    df_yearly_profits['baseline_feedin'] = df_yearly_profits['residual_load'].where(\n",
    "        df_yearly_profits['residual_load'] > 0., 0.)\n",
    "    df_yearly_profits['baseline_buy'] = df_yearly_profits['baseline_cons'] * (df_yearly_profits['dayahead_price'] + 10)\n",
    "    df_yearly_profits['baseline_sell'] = df_yearly_profits['baseline_feedin'] * (df_yearly_profits['dayahead_price'] - 5)\n",
    "\n",
    "    # Calculating the costs / profits in the case with a BESS\n",
    "    df_yearly_profits['electricity_profits_sell'] = (df_yearly_profits['dayahead_price'] - 5) * df_res['value_sell'].values\n",
    "    df_yearly_profits['electricity_costs_buy'] = (df_yearly_profits['dayahead_price'] + 10) * df_res['value_buy'].values\n",
    "\n",
    "    # Creating a new dataframe that will contain all the cashflows for 13 years (=estimated lifetime of the BESS)\n",
    "    df_cashflows = pd.DataFrame(index=pd.date_range(start='2024-01-01 00:00', freq='YE', periods=13),\n",
    "                                columns=['capex_bess', 'opex_bess', 'electricity_profits_sell',\n",
    "                                         'electricity_costs_buy', 'avoided_costs_baseline'])\n",
    "\n",
    "    # Calculating the BESS CAPEX\n",
    "    df_cashflows.loc[df_cashflows.index[0], 'capex_bess'] = -250000 * power * cap_hrs\n",
    "    df_cashflows.loc[df_cashflows.index[1]:df_cashflows.index[-1], 'capex_bess'] = 0.\n",
    "    \n",
    "    # Calculating the BESS OPEX\n",
    "    df_cashflows.loc[df_cashflows.index[0], 'opex_bess'] = 0.\n",
    "    df_cashflows.loc[df_cashflows.index[1]:df_cashflows.index[-1], 'opex_bess'] = -0.015 * 250000 * power * cap_hrs\n",
    "    \n",
    "    # Filling the \"df_cashflows\" DataFrame with the annual electricity profits and costs\n",
    "    df_cashflows['electricity_profits_sell'] = df_yearly_profits['electricity_profits_sell'].sum()\n",
    "    df_cashflows['electricity_costs_buy'] = - df_yearly_profits['electricity_costs_buy'].sum()\n",
    "    \n",
    "    # Calculating the \"avoided costs\" by installing a BESS, which is treated as an additional profit\n",
    "    df_cashflows['avoided_costs_baseline'] = df_yearly_profits['baseline_buy'].sum() - \\\n",
    "        df_yearly_profits['baseline_sell'].sum()\n",
    "\n",
    "    # Calculating the total costs, total profits, total cashflow, and cumulative cashflow\n",
    "    df_cashflows['total_costs'] = df_cashflows['capex_bess'] + df_cashflows['opex_bess'] + \\\n",
    "        df_cashflows['electricity_costs_buy']\n",
    "    df_cashflows['total_profits'] = df_cashflows['electricity_profits_sell'] + df_cashflows['avoided_costs_baseline']\n",
    "    df_cashflows['total_cashflow'] = df_cashflows['total_costs'] + df_cashflows['total_profits']\n",
    "    df_cashflows['cumulative_cashflow'] = df_cashflows['total_cashflow'].cumsum()\n",
    "\n",
    "    return df_cashflows"
   ]
  },
  {
   "cell_type": "markdown",
   "id": "8cb02b4a-3457-402a-8b77-d86dcf9ad955",
   "metadata": {},
   "source": [
    "## Execution of the economic evaluation calculation\n",
    "We will now conduct the economic evaluation calculation for all BESS configurations"
   ]
  },
  {
   "cell_type": "markdown",
   "id": "8fbf737c-b8f5-4c11-af7b-ac87836bf2a3",
   "metadata": {},
   "source": [
    "### Defining our BESS configurations"
   ]
  },
  {
   "cell_type": "code",
   "execution_count": 7,
   "id": "b879a136-0d07-46a4-8154-353aeef09cea",
   "metadata": {},
   "outputs": [],
   "source": [
    "powers = [2.5, 5.0, 7.5]\n",
    "capacities_hrs = [2.0, 4.0]"
   ]
  },
  {
   "cell_type": "markdown",
   "id": "a52b3385-d9d5-426e-b6db-d69c1117876b",
   "metadata": {},
   "source": [
    "### Creating a new dataframe that will contain the results of the economic evaluation (KPIs) for all of our configurations"
   ]
  },
  {
   "cell_type": "code",
   "execution_count": 8,
   "id": "3a8fe96b-9483-4606-a973-657c7d6298b6",
   "metadata": {},
   "outputs": [],
   "source": [
    "economic_results = pd.DataFrame(index=np.arange(0, int(len(powers) * len(capacities_hrs))),\n",
    "                                columns=['power', 'capacity_hrs', 'NPV (€)', 'dynamic_amortisation_time (a)', 'ROI'])"
   ]
  },
  {
   "cell_type": "markdown",
   "id": "4de14282-26a7-4807-a114-010836120b05",
   "metadata": {},
   "source": [
    "### Looping over our BESS configurations and executing the economic calculation for each of them"
   ]
  },
  {
   "cell_type": "code",
   "execution_count": 9,
   "id": "26d326a3-8aab-4254-80fe-dbfa1cb70366",
   "metadata": {},
   "outputs": [],
   "source": [
    "i = -1\n",
    "\n",
    "for p in powers:\n",
    "    for cap_hrs in capacities_hrs:\n",
    "        i += 1\n",
    "        df_cashflows = evaluate_profitability(power=p, cap_hrs=cap_hrs)\n",
    "        df_cashflows.to_csv(f'opt/out/p_{p}_h_{cap_hrs}/cashflows.csv')\n",
    "        economic_kpis_res = economic_kpis(df_cashflows, discount_rate=0.06)\n",
    "        economic_results.loc[i, 'power'] = p\n",
    "        economic_results.loc[i, 'capacity_hrs'] = cap_hrs\n",
    "        economic_results.loc[i, 'NPV (€)'] = economic_kpis_res['NPV']\n",
    "        economic_results.loc[i, 'dynamic_amortisation_time (a)'] = economic_kpis_res['dynamic_amortisation_time']\n",
    "        economic_results.loc[i, 'ROI'] = economic_kpis_res['ROI']"
   ]
  },
  {
   "cell_type": "markdown",
   "id": "6bc3d2c3-7eaa-4d9e-bd40-bf1556fbaece",
   "metadata": {},
   "source": [
    "## Plotting the results\n",
    "We will now visualize the results of the economic KPIs for all of our BESS configurations. This will allow us to compare the different BESS configurations and aid us with the decision of which is the best configuration for our system."
   ]
  },
  {
   "cell_type": "code",
   "execution_count": 10,
   "id": "9290469b-fb0e-4461-ab0a-21ae1c932c88",
   "metadata": {},
   "outputs": [
    {
     "data": {
      "image/png": "[encoded data removed]",
      "text/plain": [
       "<Figure size 800x500 with 2 Axes>"
      ]
     },
     "metadata": {},
     "output_type": "display_data"
    }
   ],
   "source": [
    "# Plot NPV heatmap\n",
    "kpi_heatmap(economic_results, kpi=\"NPV (€)\", cmap=\"coolwarm\", decimals=0)"
   ]
  },
  {
   "cell_type": "code",
   "execution_count": 11,
   "id": "bfd233c8-7fba-47eb-8e95-81b91af659c9",
   "metadata": {},
   "outputs": [
    {
     "data": {
      "image/png": "[encoded data removed]",
      "text/plain": [
       "<Figure size 800x500 with 2 Axes>"
      ]
     },
     "metadata": {},
     "output_type": "display_data"
    }
   ],
   "source": [
    "# Plot ROI heatmap\n",
    "kpi_heatmap(economic_results, kpi=\"ROI\", cmap=\"YlOrRd\", decimals=2)"
   ]
  },
  {
   "cell_type": "code",
   "execution_count": 12,
   "id": "90879200-05df-4830-9452-e7a18f55294b",
   "metadata": {},
   "outputs": [
    {
     "data": {
      "image/png": "[encoded data removed]",
      "text/plain": [
       "<Figure size 800x500 with 2 Axes>"
      ]
     },
     "metadata": {},
     "output_type": "display_data"
    }
   ],
   "source": [
    "# Plot dynamic amortisation time heatmap\n",
    "kpi_heatmap(economic_results, kpi=\"dynamic_amortisation_time (a)\", cmap=\"viridis\", decimals=1)"
   ]
  },
  {
   "cell_type": "markdown",
   "id": "e6f38b95-8c3c-402e-96e4-5a0f2edcd38b",
   "metadata": {},
   "source": [
    "### Saving our economic results as a csv file"
   ]
  },
  {
   "cell_type": "code",
   "execution_count": 13,
   "id": "79b42cc6-f3c7-46b7-b87e-172760fbf79d",
   "metadata": {},
   "outputs": [],
   "source": [
    "economic_results.to_csv('opt/out/economic_results.csv')"
   ]
  },
  {
   "cell_type": "markdown",
   "id": "c111f26e-1072-4462-8c3d-046bf7674c8d",
   "metadata": {},
   "source": [
    "## Taking a closer look at our best BESS configuration\n",
    "We could see from the result of the economic evaluation that the 2.5 MW / 2 h battery is the best option for our system from an economic point of view. We will now investigate the results of its cashflow calculation more closely. "
   ]
  },
  {
   "cell_type": "markdown",
   "id": "3157e225-82e2-478f-a3ab-159ec89b21d6",
   "metadata": {},
   "source": [
    "### Reading the cashflow calculation results"
   ]
  },
  {
   "cell_type": "code",
   "execution_count": 14,
   "id": "a985318a-0580-40b4-a45b-fefcac8d3640",
   "metadata": {},
   "outputs": [
    {
     "data": {
      "text/html": [
       "<div>\n",
       "<style scoped>\n",
       "    .dataframe tbody tr th:only-of-type {\n",
       "        vertical-align: middle;\n",
       "    }\n",
       "\n",
       "    .dataframe tbody tr th {\n",
       "        vertical-align: top;\n",
       "    }\n",
       "\n",
       "    .dataframe thead th {\n",
       "        text-align: right;\n",
       "    }\n",
       "</style>\n",
       "<table border=\"1\" class=\"dataframe\">\n",
       "  <thead>\n",
       "    <tr style=\"text-align: right;\">\n",
       "      <th></th>\n",
       "      <th>capex_bess</th>\n",
       "      <th>opex_bess</th>\n",
       "      <th>electricity_profits_sell</th>\n",
       "      <th>electricity_costs_buy</th>\n",
       "      <th>avoided_costs_baseline</th>\n",
       "      <th>total_costs</th>\n",
       "      <th>total_profits</th>\n",
       "      <th>total_cashflow</th>\n",
       "      <th>cumulative_cashflow</th>\n",
       "    </tr>\n",
       "  </thead>\n",
       "  <tbody>\n",
       "    <tr>\n",
       "      <th>2024-12-31</th>\n",
       "      <td>-1250000.0</td>\n",
       "      <td>0.0</td>\n",
       "      <td>336769.427842</td>\n",
       "      <td>-335890.248202</td>\n",
       "      <td>464432.59545</td>\n",
       "      <td>-1.585890e+06</td>\n",
       "      <td>801202.023292</td>\n",
       "      <td>-784688.224911</td>\n",
       "      <td>-7.846882e+05</td>\n",
       "    </tr>\n",
       "    <tr>\n",
       "      <th>2025-12-31</th>\n",
       "      <td>0.0</td>\n",
       "      <td>-18750.0</td>\n",
       "      <td>336769.427842</td>\n",
       "      <td>-335890.248202</td>\n",
       "      <td>464432.59545</td>\n",
       "      <td>-3.546402e+05</td>\n",
       "      <td>801202.023292</td>\n",
       "      <td>446561.775089</td>\n",
       "      <td>-3.381264e+05</td>\n",
       "    </tr>\n",
       "    <tr>\n",
       "      <th>2026-12-31</th>\n",
       "      <td>0.0</td>\n",
       "      <td>-18750.0</td>\n",
       "      <td>336769.427842</td>\n",
       "      <td>-335890.248202</td>\n",
       "      <td>464432.59545</td>\n",
       "      <td>-3.546402e+05</td>\n",
       "      <td>801202.023292</td>\n",
       "      <td>446561.775089</td>\n",
       "      <td>1.084353e+05</td>\n",
       "    </tr>\n",
       "    <tr>\n",
       "      <th>2027-12-31</th>\n",
       "      <td>0.0</td>\n",
       "      <td>-18750.0</td>\n",
       "      <td>336769.427842</td>\n",
       "      <td>-335890.248202</td>\n",
       "      <td>464432.59545</td>\n",
       "      <td>-3.546402e+05</td>\n",
       "      <td>801202.023292</td>\n",
       "      <td>446561.775089</td>\n",
       "      <td>5.549971e+05</td>\n",
       "    </tr>\n",
       "    <tr>\n",
       "      <th>2028-12-31</th>\n",
       "      <td>0.0</td>\n",
       "      <td>-18750.0</td>\n",
       "      <td>336769.427842</td>\n",
       "      <td>-335890.248202</td>\n",
       "      <td>464432.59545</td>\n",
       "      <td>-3.546402e+05</td>\n",
       "      <td>801202.023292</td>\n",
       "      <td>446561.775089</td>\n",
       "      <td>1.001559e+06</td>\n",
       "    </tr>\n",
       "    <tr>\n",
       "      <th>2029-12-31</th>\n",
       "      <td>0.0</td>\n",
       "      <td>-18750.0</td>\n",
       "      <td>336769.427842</td>\n",
       "      <td>-335890.248202</td>\n",
       "      <td>464432.59545</td>\n",
       "      <td>-3.546402e+05</td>\n",
       "      <td>801202.023292</td>\n",
       "      <td>446561.775089</td>\n",
       "      <td>1.448121e+06</td>\n",
       "    </tr>\n",
       "    <tr>\n",
       "      <th>2030-12-31</th>\n",
       "      <td>0.0</td>\n",
       "      <td>-18750.0</td>\n",
       "      <td>336769.427842</td>\n",
       "      <td>-335890.248202</td>\n",
       "      <td>464432.59545</td>\n",
       "      <td>-3.546402e+05</td>\n",
       "      <td>801202.023292</td>\n",
       "      <td>446561.775089</td>\n",
       "      <td>1.894682e+06</td>\n",
       "    </tr>\n",
       "    <tr>\n",
       "      <th>2031-12-31</th>\n",
       "      <td>0.0</td>\n",
       "      <td>-18750.0</td>\n",
       "      <td>336769.427842</td>\n",
       "      <td>-335890.248202</td>\n",
       "      <td>464432.59545</td>\n",
       "      <td>-3.546402e+05</td>\n",
       "      <td>801202.023292</td>\n",
       "      <td>446561.775089</td>\n",
       "      <td>2.341244e+06</td>\n",
       "    </tr>\n",
       "    <tr>\n",
       "      <th>2032-12-31</th>\n",
       "      <td>0.0</td>\n",
       "      <td>-18750.0</td>\n",
       "      <td>336769.427842</td>\n",
       "      <td>-335890.248202</td>\n",
       "      <td>464432.59545</td>\n",
       "      <td>-3.546402e+05</td>\n",
       "      <td>801202.023292</td>\n",
       "      <td>446561.775089</td>\n",
       "      <td>2.787806e+06</td>\n",
       "    </tr>\n",
       "    <tr>\n",
       "      <th>2033-12-31</th>\n",
       "      <td>0.0</td>\n",
       "      <td>-18750.0</td>\n",
       "      <td>336769.427842</td>\n",
       "      <td>-335890.248202</td>\n",
       "      <td>464432.59545</td>\n",
       "      <td>-3.546402e+05</td>\n",
       "      <td>801202.023292</td>\n",
       "      <td>446561.775089</td>\n",
       "      <td>3.234368e+06</td>\n",
       "    </tr>\n",
       "    <tr>\n",
       "      <th>2034-12-31</th>\n",
       "      <td>0.0</td>\n",
       "      <td>-18750.0</td>\n",
       "      <td>336769.427842</td>\n",
       "      <td>-335890.248202</td>\n",
       "      <td>464432.59545</td>\n",
       "      <td>-3.546402e+05</td>\n",
       "      <td>801202.023292</td>\n",
       "      <td>446561.775089</td>\n",
       "      <td>3.680930e+06</td>\n",
       "    </tr>\n",
       "    <tr>\n",
       "      <th>2035-12-31</th>\n",
       "      <td>0.0</td>\n",
       "      <td>-18750.0</td>\n",
       "      <td>336769.427842</td>\n",
       "      <td>-335890.248202</td>\n",
       "      <td>464432.59545</td>\n",
       "      <td>-3.546402e+05</td>\n",
       "      <td>801202.023292</td>\n",
       "      <td>446561.775089</td>\n",
       "      <td>4.127491e+06</td>\n",
       "    </tr>\n",
       "    <tr>\n",
       "      <th>2036-12-31</th>\n",
       "      <td>0.0</td>\n",
       "      <td>-18750.0</td>\n",
       "      <td>336769.427842</td>\n",
       "      <td>-335890.248202</td>\n",
       "      <td>464432.59545</td>\n",
       "      <td>-3.546402e+05</td>\n",
       "      <td>801202.023292</td>\n",
       "      <td>446561.775089</td>\n",
       "      <td>4.574053e+06</td>\n",
       "    </tr>\n",
       "  </tbody>\n",
       "</table>\n",
       "</div>"
      ],
      "text/plain": [
       "            capex_bess  opex_bess  electricity_profits_sell  \\\n",
       "2024-12-31  -1250000.0        0.0             336769.427842   \n",
       "2025-12-31         0.0   -18750.0             336769.427842   \n",
       "2026-12-31         0.0   -18750.0             336769.427842   \n",
       "2027-12-31         0.0   -18750.0             336769.427842   \n",
       "2028-12-31         0.0   -18750.0             336769.427842   \n",
       "2029-12-31         0.0   -18750.0             336769.427842   \n",
       "2030-12-31         0.0   -18750.0             336769.427842   \n",
       "2031-12-31         0.0   -18750.0             336769.427842   \n",
       "2032-12-31         0.0   -18750.0             336769.427842   \n",
       "2033-12-31         0.0   -18750.0             336769.427842   \n",
       "2034-12-31         0.0   -18750.0             336769.427842   \n",
       "2035-12-31         0.0   -18750.0             336769.427842   \n",
       "2036-12-31         0.0   -18750.0             336769.427842   \n",
       "\n",
       "            electricity_costs_buy  avoided_costs_baseline   total_costs  \\\n",
       "2024-12-31         -335890.248202            464432.59545 -1.585890e+06   \n",
       "2025-12-31         -335890.248202            464432.59545 -3.546402e+05   \n",
       "2026-12-31         -335890.248202            464432.59545 -3.546402e+05   \n",
       "2027-12-31         -335890.248202            464432.59545 -3.546402e+05   \n",
       "2028-12-31         -335890.248202            464432.59545 -3.546402e+05   \n",
       "2029-12-31         -335890.248202            464432.59545 -3.546402e+05   \n",
       "2030-12-31         -335890.248202            464432.59545 -3.546402e+05   \n",
       "2031-12-31         -335890.248202            464432.59545 -3.546402e+05   \n",
       "2032-12-31         -335890.248202            464432.59545 -3.546402e+05   \n",
       "2033-12-31         -335890.248202            464432.59545 -3.546402e+05   \n",
       "2034-12-31         -335890.248202            464432.59545 -3.546402e+05   \n",
       "2035-12-31         -335890.248202            464432.59545 -3.546402e+05   \n",
       "2036-12-31         -335890.248202            464432.59545 -3.546402e+05   \n",
       "\n",
       "            total_profits  total_cashflow  cumulative_cashflow  \n",
       "2024-12-31  801202.023292  -784688.224911        -7.846882e+05  \n",
       "2025-12-31  801202.023292   446561.775089        -3.381264e+05  \n",
       "2026-12-31  801202.023292   446561.775089         1.084353e+05  \n",
       "2027-12-31  801202.023292   446561.775089         5.549971e+05  \n",
       "2028-12-31  801202.023292   446561.775089         1.001559e+06  \n",
       "2029-12-31  801202.023292   446561.775089         1.448121e+06  \n",
       "2030-12-31  801202.023292   446561.775089         1.894682e+06  \n",
       "2031-12-31  801202.023292   446561.775089         2.341244e+06  \n",
       "2032-12-31  801202.023292   446561.775089         2.787806e+06  \n",
       "2033-12-31  801202.023292   446561.775089         3.234368e+06  \n",
       "2034-12-31  801202.023292   446561.775089         3.680930e+06  \n",
       "2035-12-31  801202.023292   446561.775089         4.127491e+06  \n",
       "2036-12-31  801202.023292   446561.775089         4.574053e+06  "
      ]
     },
     "execution_count": 14,
     "metadata": {},
     "output_type": "execute_result"
    }
   ],
   "source": [
    "p_best = 2.5\n",
    "cap_hrs_best = 2.0\n",
    "\n",
    "df_cashflow_best_option = pd.read_csv(f'opt/out/p_{p_best}_h_{cap_hrs_best}/cashflows.csv', index_col=0)\n",
    "df_cashflow_best_option"
   ]
  },
  {
   "cell_type": "markdown",
   "id": "195a473d-223c-4b3c-b4f7-6da9aeac9e7c",
   "metadata": {},
   "source": [
    "### Visualizing the cashflow results"
   ]
  },
  {
   "cell_type": "code",
   "execution_count": 15,
   "id": "bab4912b-ce27-49c7-94dd-797043fa0770",
   "metadata": {},
   "outputs": [
    {
     "data": {
      "image/png": "[encoded data removed]",
      "text/plain": [
       "<Figure size 800x600 with 1 Axes>"
      ]
     },
     "metadata": {},
     "output_type": "display_data"
    }
   ],
   "source": [
    "stacked_profit_cost_bar(df_cashflow_best_option)"
   ]
  },
  {
   "cell_type": "code",
   "execution_count": null,
   "id": "02ee3a09-25de-4d74-8692-8ec9c5d511eb",
   "metadata": {},
   "outputs": [],
   "source": []
  }
 ],
 "metadata": {
  "kernelspec": {
   "display_name": "Python 3 (ipykernel)",
   "language": "python",
   "name": "python3"
  },
  "language_info": {
   "codemirror_mode": {
    "name": "ipython",
    "version": 3
   },
   "file_extension": ".py",
   "mimetype": "text/x-python",
   "name": "python",
   "nbconvert_exporter": "python",
   "pygments_lexer": "ipython3",
   "version": "3.9.16"
  }
 },
 "nbformat": 4,
 "nbformat_minor": 5
}
